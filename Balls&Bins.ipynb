{
 "cells": [
  {
   "cell_type": "code",
   "execution_count": 11,
   "metadata": {},
   "outputs": [
    {
     "name": "stdout",
     "output_type": "stream",
     "text": [
      "Bin 1 = 23 balls, load =  23.0\n",
      "Bin 2 = 17 balls, load =  17.0\n",
      "Bin 3 = 24 balls, load =  24.0\n",
      "Bin 4 = 15 balls, load =  15.0\n",
      "Bin 5 = 21 balls, load =  21.0\n",
      "\n",
      "Total load :  100\n",
      "Avg load   :  20.0\n",
      "Max load   :  24\n"
     ]
    }
   ],
   "source": [
    "import random\n",
    "\n",
    "# Initialize variables\n",
    "n = 100 # number of balls\n",
    "m = 5 # number of bins\n",
    "balls = [i for i in range(1, n+1)]\n",
    "bins = [0] * m\n",
    "\n",
    "# Distribute balls into bins\n",
    "for ball in balls:\n",
    "    bin_index = random.randint(0, m-1)\n",
    "    bins[bin_index] += 1\n",
    "\n",
    "# Compute load of each bin\n",
    "for i in range(m):\n",
    "  print(\"Bin \"+str(i+1)+\" =\",bins[i],\"balls, load = \",bins[i]/n*100)\n",
    "\n",
    "# Analyze distribution of balls across bins\n",
    "print(\"\\nTotal load : \", sum(bins))\n",
    "print(\"Avg load   : \", sum(bins)/m)\n",
    "print(\"Max load   : \", max(bins))"
   ]
  }
 ],
 "metadata": {
  "kernelspec": {
   "display_name": "Python 3",
   "language": "python",
   "name": "python3"
  },
  "language_info": {
   "codemirror_mode": {
    "name": "ipython",
    "version": 3
   },
   "file_extension": ".py",
   "mimetype": "text/x-python",
   "name": "python",
   "nbconvert_exporter": "python",
   "pygments_lexer": "ipython3",
   "version": "3.11.0"
  },
  "orig_nbformat": 4
 },
 "nbformat": 4,
 "nbformat_minor": 2
}
